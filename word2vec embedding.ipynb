{
 "cells": [
  {
   "cell_type": "code",
   "execution_count": 1,
   "id": "0916c5aa",
   "metadata": {},
   "outputs": [],
   "source": [
    "from gensim.models import Word2Vec\n",
    "from gensim.models import KeyedVectors\n",
    "\n",
    "import pickle\n",
    "\n",
    "# w2v_embeddings = KeyedVectors.load(\"word2vec_first_embeddings\")\n",
    "w2v_model = Word2Vec.load(\"en_1000_no_stem/en.model\")"
   ]
  },
  {
   "cell_type": "code",
   "execution_count": 2,
   "id": "097df2e7",
   "metadata": {},
   "outputs": [
    {
     "data": {
      "text/plain": [
       "<gensim.models.keyedvectors.Word2VecKeyedVectors at 0x240bd11fd60>"
      ]
     },
     "execution_count": 2,
     "metadata": {},
     "output_type": "execute_result"
    }
   ],
   "source": [
    "w2v_model.wv"
   ]
  },
  {
   "cell_type": "code",
   "execution_count": 3,
   "id": "ddb49de0",
   "metadata": {},
   "outputs": [],
   "source": [
    "y_train, _, x_train = pickle.load(open(\"dbpedia_csv/\" + \"/train_lem_preprocessed.pickle\", \"rb\"))\n",
    "#_, _, x_valid = pickle.load(open(paths.data + \"/validation_preprocessed.pickle\", \"rb\"))\n",
    "y_test, _, x_test = pickle.load(open(\"dbpedia_csv/\" + \"/test_lem_preprocessed.pickle\", \"rb\"))"
   ]
  },
  {
   "cell_type": "code",
   "execution_count": 10,
   "id": "78dc1d1b",
   "metadata": {},
   "outputs": [],
   "source": [
    "_, x_t, _ = pickle.load(open(\"dbpedia_csv/\" + \"/train_lem_preprocessed.pickle\", \"rb\"))\n",
    "#_, _, x_valid = pickle.load(open(paths.data + \"/validation_preprocessed.pickle\", \"rb\"))\n",
    "_, x_tb, _ = pickle.load(open(\"dbpedia_csv/\" + \"/test_lem_preprocessed.pickle\", \"rb\"))"
   ]
  },
  {
   "cell_type": "code",
   "execution_count": 4,
   "id": "d2d8a9a6",
   "metadata": {},
   "outputs": [],
   "source": [
    "split_examples =[x.split() for x in x_train]\n",
    "split_test = [x.split() for x in x_test]"
   ]
  },
  {
   "cell_type": "code",
   "execution_count": 5,
   "id": "760e9112",
   "metadata": {},
   "outputs": [],
   "source": [
    "import pandas\n",
    "import numpy"
   ]
  },
  {
   "cell_type": "code",
   "execution_count": 6,
   "id": "950af9ad",
   "metadata": {},
   "outputs": [],
   "source": [
    "def word_vector(tokens, size):\n",
    "    vec = numpy.zeros(size).reshape((1, size))\n",
    "    count = 0\n",
    "    for word in tokens:\n",
    "        try:\n",
    "            vec += w2v_model.wv[word].reshape((1, size))\n",
    "            count += 1.\n",
    "        except KeyError:  # handling the case where the token is not in vocabulary\n",
    "            continue\n",
    "    if count != 0:\n",
    "        vec /= count\n",
    "    return vec"
   ]
  },
  {
   "cell_type": "code",
   "execution_count": 7,
   "id": "ef75bc43",
   "metadata": {},
   "outputs": [
    {
     "data": {
      "text/plain": [
       "(560000, 1000)"
      ]
     },
     "execution_count": 7,
     "metadata": {},
     "output_type": "execute_result"
    }
   ],
   "source": [
    "wordvec_arrays = numpy.zeros((len(split_examples), 1000)) \n",
    "for i in range(len(split_examples)):\n",
    "    wordvec_arrays[i,:] = word_vector(split_examples[i], 1000)\n",
    "    \n",
    "wordvec_df = pandas.DataFrame(wordvec_arrays)\n",
    "wordvec_df.shape\n",
    "\n"
   ]
  },
  {
   "cell_type": "code",
   "execution_count": 8,
   "id": "8c6db19a",
   "metadata": {},
   "outputs": [],
   "source": [
    "x_train = wordvec_df"
   ]
  },
  {
   "cell_type": "code",
   "execution_count": 9,
   "id": "d1cbc2d8",
   "metadata": {},
   "outputs": [
    {
     "data": {
      "text/plain": [
       "(70000, 1000)"
      ]
     },
     "execution_count": 9,
     "metadata": {},
     "output_type": "execute_result"
    }
   ],
   "source": [
    "wordvec_arrays = numpy.zeros((len(split_test), 1000)) \n",
    "for i in range(len(split_test)):\n",
    "    wordvec_arrays[i,:] = word_vector(split_test[i], 1000)\n",
    "    \n",
    "wordvec_df = pandas.DataFrame(wordvec_arrays)\n",
    "\n",
    "x_test = wordvec_df\n",
    "x_test.shape"
   ]
  },
  {
   "cell_type": "code",
   "execution_count": 11,
   "id": "1bab790b",
   "metadata": {},
   "outputs": [],
   "source": [
    "from preprocess import write_pkl\n",
    "\n",
    "write_pkl(y_train, x_t, x_train, mode=\"train_lem\")\n",
    "write_pkl(y_test, x_tb, x_test, mode=\"test_lem\")"
   ]
  },
  {
   "cell_type": "code",
   "execution_count": null,
   "id": "a540f0f4",
   "metadata": {},
   "outputs": [],
   "source": []
  }
 ],
 "metadata": {
  "kernelspec": {
   "display_name": "Python 3 (ipykernel)",
   "language": "python",
   "name": "python3"
  },
  "language_info": {
   "codemirror_mode": {
    "name": "ipython",
    "version": 3
   },
   "file_extension": ".py",
   "mimetype": "text/x-python",
   "name": "python",
   "nbconvert_exporter": "python",
   "pygments_lexer": "ipython3",
   "version": "3.9.12"
  }
 },
 "nbformat": 4,
 "nbformat_minor": 5
}

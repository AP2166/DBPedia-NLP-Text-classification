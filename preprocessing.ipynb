{
 "cells": [
  {
   "cell_type": "code",
   "execution_count": 1,
   "id": "0876726b",
   "metadata": {},
   "outputs": [
    {
     "name": "stdout",
     "output_type": "stream",
     "text": [
      "Requirement already satisfied: nltk in c:\\users\\ana\\anaconda3\\lib\\site-packages (3.7)\n",
      "Requirement already satisfied: tqdm in c:\\users\\ana\\anaconda3\\lib\\site-packages (from nltk) (4.64.0)\n",
      "Requirement already satisfied: regex>=2021.8.3 in c:\\users\\ana\\anaconda3\\lib\\site-packages (from nltk) (2022.3.15)\n",
      "Requirement already satisfied: click in c:\\users\\ana\\anaconda3\\lib\\site-packages (from nltk) (8.0.4)\n",
      "Requirement already satisfied: joblib in c:\\users\\ana\\anaconda3\\lib\\site-packages (from nltk) (1.1.0)\n",
      "Requirement already satisfied: colorama in c:\\users\\ana\\anaconda3\\lib\\site-packages (from click->nltk) (0.4.4)\n",
      "Note: you may need to restart the kernel to use updated packages.\n"
     ]
    }
   ],
   "source": [
    "pip install nltk"
   ]
  },
  {
   "cell_type": "code",
   "execution_count": 2,
   "id": "79b47578",
   "metadata": {},
   "outputs": [
    {
     "name": "stdout",
     "output_type": "stream",
     "text": [
      "Requirement already satisfied: gensim in c:\\users\\ana\\anaconda3\\lib\\site-packages (4.1.2)\n",
      "Requirement already satisfied: scipy>=0.18.1 in c:\\users\\ana\\anaconda3\\lib\\site-packages (from gensim) (1.7.3)\n",
      "Note: you may need to restart the kernel to use updated packages.Requirement already satisfied: smart-open>=1.8.1 in c:\\users\\ana\\anaconda3\\lib\\site-packages (from gensim) (5.1.0)\n",
      "Requirement already satisfied: numpy>=1.17.0 in c:\\users\\ana\\anaconda3\\lib\\site-packages (from gensim) (1.21.5)\n",
      "\n"
     ]
    }
   ],
   "source": [
    "pip install gensim"
   ]
  },
  {
   "cell_type": "code",
   "execution_count": 6,
   "id": "eeb7833a",
   "metadata": {},
   "outputs": [],
   "source": [
    "import re\n",
    "import pandas\n",
    "import pickle\n",
    "from nltk.corpus import stopwords\n",
    "from tqdm import tqdm\n",
    "\n",
    "\n",
    "paths = {\"data_path\": \"dbpedia_csv\"}\n",
    "\n",
    "\n",
    "def preprocess_list(doc_list):\n",
    "    # stopword list\n",
    "    stop_words = stopwords.words(\"english\")\n",
    "    new_doc_list = list()\n",
    "\n",
    "    for doc in tqdm(doc_list, desc=\"Preprocessing\"):\n",
    "        doc = preprocess_doc(doc, stop_words)\n",
    "        new_doc_list.append(doc)\n",
    "\n",
    "    return new_doc_list\n",
    "# end preprocess_list\n",
    "\n",
    "\n",
    "def preprocess_doc(doc, stop_words):\n",
    "    # 1. remove all numeric references of form [XX]\n",
    "    doc = re.sub('[\\[].[0-9]*[\\]]', '', doc)\n",
    "    doc = re.sub('[\\(].*?[\\)]', '', doc)\n",
    "    # 2. remove newlines and multiple whitespace, lower case everything\n",
    "    doc = re.sub('\\s+', ' ', doc).strip()\n",
    "    doc = doc.lower()\n",
    "\n",
    "    # 3. remove special characters\n",
    "    # Regex to keep . , and ' is [^A-Za-z0-9.,\\' ]\n",
    "    doc = re.sub('[^A-Za-z0-9 ]', '', doc)\n",
    "\n",
    "    # 4. remove stopwords\n",
    "    doc = \" \".join([w for w in doc.split() if w not in stop_words])\n",
    "\n",
    "    return doc\n",
    "# end preprocess_doc\n",
    "\n",
    "\n",
    "def write_csv(labels, titles, contents, mode=\"train\"):\n",
    "    f = open(paths.data_path + mode + \"_preprocessed.csv\", \"w\")\n",
    "\n",
    "    for i in range(len(labels)):\n",
    "        f.write(str(labels[i]) + \",\\\"\" + titles[i] + \"\\\",\\\"\" + contents[i] + \"\\\"\\n\")\n",
    "\n",
    "    f.close()\n",
    "# end write_csv\n",
    "\n",
    "\n",
    "def write_pkl(labels, titles, contents, mode=\"train\"):\n",
    "    fname = paths.data_path + mode + \"_preprocessed.pickle\"\n",
    "    pickle.dump((labels, titles, contents), open(fname, \"wb\"), protocol=pickle.HIGHEST_PROTOCOL)\n",
    "# end write_pkl"
   ]
  },
  {
   "cell_type": "code",
   "execution_count": null,
   "id": "054ed501",
   "metadata": {},
   "outputs": [],
   "source": []
  }
 ],
 "metadata": {
  "kernelspec": {
   "display_name": "Python 3 (ipykernel)",
   "language": "python",
   "name": "python3"
  },
  "language_info": {
   "codemirror_mode": {
    "name": "ipython",
    "version": 3
   },
   "file_extension": ".py",
   "mimetype": "text/x-python",
   "name": "python",
   "nbconvert_exporter": "python",
   "pygments_lexer": "ipython3",
   "version": "3.9.12"
  }
 },
 "nbformat": 4,
 "nbformat_minor": 5
}

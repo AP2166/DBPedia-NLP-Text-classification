{
 "cells": [
  {
   "cell_type": "code",
   "execution_count": 1,
   "id": "aa1c5d84",
   "metadata": {},
   "outputs": [],
   "source": [
    "import os\n",
    "import logging\n",
    "import pickle\n",
    "import argparse\n",
    "from tqdm import tqdm  # printing progress\n",
    "from gensim.models import Word2Vec\n",
    "from gensim.models import KeyedVectors\n",
    "\n",
    "import pandas"
   ]
  },
  {
   "cell_type": "code",
   "execution_count": 2,
   "id": "7b35c340",
   "metadata": {},
   "outputs": [],
   "source": [
    "path = \"dbpedia_csv/\""
   ]
  },
  {
   "cell_type": "code",
   "execution_count": 3,
   "id": "1fa70c77",
   "metadata": {},
   "outputs": [],
   "source": [
    "_, _, x_train = pickle.load(open(path + \"/train_preprocessed.pickle\", \"rb\"))\n",
    "\n",
    "_, _, x_test = pickle.load(open(path + \"/test_preprocessed.pickle\", \"rb\"))"
   ]
  },
  {
   "cell_type": "code",
   "execution_count": 5,
   "id": "17706287",
   "metadata": {},
   "outputs": [],
   "source": [
    "doc_list = x_train + x_test\n",
    "num_pass = 0"
   ]
  },
  {
   "cell_type": "code",
   "execution_count": 10,
   "id": "346b1ca9",
   "metadata": {},
   "outputs": [],
   "source": [
    "# embedding_size = ARGS.w2v_embed_size  # Dimension of the embedding vector.\n",
    "# window = ARGS.w2v_window  # How many words to consider left and right.\n",
    "\n",
    "# \"-we\", \"--w2v_embed_size\",\n",
    "\n",
    "#model = Word2Vec(doc_list, size=50, workers=3, window =3, sg = 1)\n",
    "w2v_model = Word2Vec(doc_list, vector_size=50, window=3, min_count=1, workers=4)"
   ]
  },
  {
   "cell_type": "code",
   "execution_count": null,
   "id": "b5e99aed",
   "metadata": {},
   "outputs": [],
   "source": []
  },
  {
   "cell_type": "code",
   "execution_count": null,
   "id": "414e9f6a",
   "metadata": {},
   "outputs": [],
   "source": []
  },
  {
   "cell_type": "code",
   "execution_count": 13,
   "id": "cfb452c5",
   "metadata": {},
   "outputs": [
    {
     "data": {
      "text/plain": [
       "['schwanstabilo',\n",
       " 'german',\n",
       " 'maker',\n",
       " 'pens',\n",
       " 'writing',\n",
       " 'colouring',\n",
       " 'cosmetics',\n",
       " 'well',\n",
       " 'markers',\n",
       " 'highlighters',\n",
       " 'office',\n",
       " 'use',\n",
       " 'worlds',\n",
       " 'largest',\n",
       " 'manufacturer',\n",
       " 'highlighter',\n",
       " 'pens',\n",
       " 'stabilo',\n",
       " 'boss']"
      ]
     },
     "execution_count": 13,
     "metadata": {},
     "output_type": "execute_result"
    }
   ],
   "source": [
    "\n",
    "\n",
    "split_examples =[x.split() for x in doc_list]\n",
    "split_examples[1]"
   ]
  },
  {
   "cell_type": "code",
   "execution_count": 17,
   "id": "e119802c",
   "metadata": {},
   "outputs": [
    {
     "data": {
      "text/plain": [
       "(1775483, 337947460)"
      ]
     },
     "execution_count": 17,
     "metadata": {},
     "output_type": "execute_result"
    }
   ],
   "source": [
    "w2v_model.train(split_examples, total_examples= len(doc_list), epochs=20)"
   ]
  },
  {
   "cell_type": "code",
   "execution_count": 21,
   "id": "8eda2cea",
   "metadata": {},
   "outputs": [
    {
     "ename": "NameError",
     "evalue": "name 'pd' is not defined",
     "output_type": "error",
     "traceback": [
      "\u001b[1;31m---------------------------------------------------------------------------\u001b[0m",
      "\u001b[1;31mNameError\u001b[0m                                 Traceback (most recent call last)",
      "Input \u001b[1;32mIn [21]\u001b[0m, in \u001b[0;36m<cell line: 19>\u001b[1;34m()\u001b[0m\n\u001b[0;32m     17\u001b[0m \u001b[38;5;28;01mfor\u001b[39;00m i \u001b[38;5;129;01min\u001b[39;00m \u001b[38;5;28mrange\u001b[39m(\u001b[38;5;28mlen\u001b[39m(split_examples)):\n\u001b[0;32m     18\u001b[0m     wordvec_arrays[i,:] \u001b[38;5;241m=\u001b[39m word_vector(split_examples[i], \u001b[38;5;241m50\u001b[39m)\n\u001b[1;32m---> 19\u001b[0m wordvec_df \u001b[38;5;241m=\u001b[39m \u001b[43mpd\u001b[49m\u001b[38;5;241m.\u001b[39mDataFrame(wordvec_arrays)\n\u001b[0;32m     20\u001b[0m wordvec_df\u001b[38;5;241m.\u001b[39mshape\n",
      "\u001b[1;31mNameError\u001b[0m: name 'pd' is not defined"
     ]
    }
   ],
   "source": [
    "import numpy as np\n",
    "\n",
    "def word_vector(tokens, size):\n",
    "    vec = np.zeros(size).reshape((1, size))\n",
    "    count = 0\n",
    "    for word in tokens:\n",
    "        try:\n",
    "            vec += w2v_model.wv[word].reshape((1, size))\n",
    "            count += 1.\n",
    "        except KeyError:  # handling the case where the token is not in vocabulary\n",
    "            continue\n",
    "    if count != 0:\n",
    "        vec /= count\n",
    "    return vec\n",
    "\n",
    "wordvec_arrays = np.zeros((len(split_examples), 50)) \n",
    "for i in range(len(split_examples)):\n",
    "    wordvec_arrays[i,:] = word_vector(split_examples[i], 50)\n"
   ]
  },
  {
   "cell_type": "code",
   "execution_count": 22,
   "id": "3c577323",
   "metadata": {},
   "outputs": [
    {
     "data": {
      "text/plain": [
       "(630000, 50)"
      ]
     },
     "execution_count": 22,
     "metadata": {},
     "output_type": "execute_result"
    }
   ],
   "source": [
    "wordvec_df = pandas.DataFrame(wordvec_arrays)\n",
    "wordvec_df.shape"
   ]
  },
  {
   "cell_type": "code",
   "execution_count": 26,
   "id": "b6254c5d",
   "metadata": {},
   "outputs": [],
   "source": [
    "y_train, _, _ = pickle.load(open(path + \"/train_preprocessed.pickle\", \"rb\"))\n",
    "\n",
    "y_test, _, _ = pickle.load(open(path + \"/test_preprocessed.pickle\", \"rb\"))"
   ]
  },
  {
   "cell_type": "code",
   "execution_count": 27,
   "id": "0d69d860",
   "metadata": {},
   "outputs": [
    {
     "data": {
      "text/plain": [
       "630000"
      ]
     },
     "execution_count": 27,
     "metadata": {},
     "output_type": "execute_result"
    }
   ],
   "source": [
    "len(y_train + y_test)"
   ]
  },
  {
   "cell_type": "code",
   "execution_count": 28,
   "id": "8e3489e4",
   "metadata": {},
   "outputs": [
    {
     "data": {
      "text/plain": [
       "560000"
      ]
     },
     "execution_count": 28,
     "metadata": {},
     "output_type": "execute_result"
    }
   ],
   "source": [
    "len(y_train)"
   ]
  },
  {
   "cell_type": "code",
   "execution_count": 29,
   "id": "a57f8bdd",
   "metadata": {},
   "outputs": [
    {
     "data": {
      "text/html": [
       "<div>\n",
       "<style scoped>\n",
       "    .dataframe tbody tr th:only-of-type {\n",
       "        vertical-align: middle;\n",
       "    }\n",
       "\n",
       "    .dataframe tbody tr th {\n",
       "        vertical-align: top;\n",
       "    }\n",
       "\n",
       "    .dataframe thead th {\n",
       "        text-align: right;\n",
       "    }\n",
       "</style>\n",
       "<table border=\"1\" class=\"dataframe\">\n",
       "  <thead>\n",
       "    <tr style=\"text-align: right;\">\n",
       "      <th></th>\n",
       "      <th>0</th>\n",
       "      <th>1</th>\n",
       "      <th>2</th>\n",
       "      <th>3</th>\n",
       "      <th>4</th>\n",
       "      <th>5</th>\n",
       "      <th>6</th>\n",
       "      <th>7</th>\n",
       "      <th>8</th>\n",
       "      <th>9</th>\n",
       "      <th>...</th>\n",
       "      <th>40</th>\n",
       "      <th>41</th>\n",
       "      <th>42</th>\n",
       "      <th>43</th>\n",
       "      <th>44</th>\n",
       "      <th>45</th>\n",
       "      <th>46</th>\n",
       "      <th>47</th>\n",
       "      <th>48</th>\n",
       "      <th>49</th>\n",
       "    </tr>\n",
       "  </thead>\n",
       "  <tbody>\n",
       "    <tr>\n",
       "      <th>0</th>\n",
       "      <td>-0.409411</td>\n",
       "      <td>-0.481766</td>\n",
       "      <td>-0.449141</td>\n",
       "      <td>1.091868</td>\n",
       "      <td>-0.768192</td>\n",
       "      <td>-0.060451</td>\n",
       "      <td>-0.311895</td>\n",
       "      <td>-0.140397</td>\n",
       "      <td>0.344459</td>\n",
       "      <td>0.660494</td>\n",
       "      <td>...</td>\n",
       "      <td>0.992893</td>\n",
       "      <td>-0.221473</td>\n",
       "      <td>-0.568633</td>\n",
       "      <td>0.686275</td>\n",
       "      <td>-0.275348</td>\n",
       "      <td>0.551287</td>\n",
       "      <td>0.613449</td>\n",
       "      <td>-0.187132</td>\n",
       "      <td>-0.870731</td>\n",
       "      <td>0.044502</td>\n",
       "    </tr>\n",
       "    <tr>\n",
       "      <th>1</th>\n",
       "      <td>0.000000</td>\n",
       "      <td>0.000000</td>\n",
       "      <td>0.000000</td>\n",
       "      <td>0.000000</td>\n",
       "      <td>0.000000</td>\n",
       "      <td>0.000000</td>\n",
       "      <td>0.000000</td>\n",
       "      <td>0.000000</td>\n",
       "      <td>0.000000</td>\n",
       "      <td>0.000000</td>\n",
       "      <td>...</td>\n",
       "      <td>0.000000</td>\n",
       "      <td>0.000000</td>\n",
       "      <td>0.000000</td>\n",
       "      <td>0.000000</td>\n",
       "      <td>0.000000</td>\n",
       "      <td>0.000000</td>\n",
       "      <td>0.000000</td>\n",
       "      <td>0.000000</td>\n",
       "      <td>0.000000</td>\n",
       "      <td>0.000000</td>\n",
       "    </tr>\n",
       "    <tr>\n",
       "      <th>2</th>\n",
       "      <td>0.000000</td>\n",
       "      <td>0.000000</td>\n",
       "      <td>0.000000</td>\n",
       "      <td>0.000000</td>\n",
       "      <td>0.000000</td>\n",
       "      <td>0.000000</td>\n",
       "      <td>0.000000</td>\n",
       "      <td>0.000000</td>\n",
       "      <td>0.000000</td>\n",
       "      <td>0.000000</td>\n",
       "      <td>...</td>\n",
       "      <td>0.000000</td>\n",
       "      <td>0.000000</td>\n",
       "      <td>0.000000</td>\n",
       "      <td>0.000000</td>\n",
       "      <td>0.000000</td>\n",
       "      <td>0.000000</td>\n",
       "      <td>0.000000</td>\n",
       "      <td>0.000000</td>\n",
       "      <td>0.000000</td>\n",
       "      <td>0.000000</td>\n",
       "    </tr>\n",
       "    <tr>\n",
       "      <th>3</th>\n",
       "      <td>0.000000</td>\n",
       "      <td>0.000000</td>\n",
       "      <td>0.000000</td>\n",
       "      <td>0.000000</td>\n",
       "      <td>0.000000</td>\n",
       "      <td>0.000000</td>\n",
       "      <td>0.000000</td>\n",
       "      <td>0.000000</td>\n",
       "      <td>0.000000</td>\n",
       "      <td>0.000000</td>\n",
       "      <td>...</td>\n",
       "      <td>0.000000</td>\n",
       "      <td>0.000000</td>\n",
       "      <td>0.000000</td>\n",
       "      <td>0.000000</td>\n",
       "      <td>0.000000</td>\n",
       "      <td>0.000000</td>\n",
       "      <td>0.000000</td>\n",
       "      <td>0.000000</td>\n",
       "      <td>0.000000</td>\n",
       "      <td>0.000000</td>\n",
       "    </tr>\n",
       "    <tr>\n",
       "      <th>4</th>\n",
       "      <td>0.000000</td>\n",
       "      <td>0.000000</td>\n",
       "      <td>0.000000</td>\n",
       "      <td>0.000000</td>\n",
       "      <td>0.000000</td>\n",
       "      <td>0.000000</td>\n",
       "      <td>0.000000</td>\n",
       "      <td>0.000000</td>\n",
       "      <td>0.000000</td>\n",
       "      <td>0.000000</td>\n",
       "      <td>...</td>\n",
       "      <td>0.000000</td>\n",
       "      <td>0.000000</td>\n",
       "      <td>0.000000</td>\n",
       "      <td>0.000000</td>\n",
       "      <td>0.000000</td>\n",
       "      <td>0.000000</td>\n",
       "      <td>0.000000</td>\n",
       "      <td>0.000000</td>\n",
       "      <td>0.000000</td>\n",
       "      <td>0.000000</td>\n",
       "    </tr>\n",
       "  </tbody>\n",
       "</table>\n",
       "<p>5 rows × 50 columns</p>\n",
       "</div>"
      ],
      "text/plain": [
       "         0         1         2         3         4         5         6   \\\n",
       "0 -0.409411 -0.481766 -0.449141  1.091868 -0.768192 -0.060451 -0.311895   \n",
       "1  0.000000  0.000000  0.000000  0.000000  0.000000  0.000000  0.000000   \n",
       "2  0.000000  0.000000  0.000000  0.000000  0.000000  0.000000  0.000000   \n",
       "3  0.000000  0.000000  0.000000  0.000000  0.000000  0.000000  0.000000   \n",
       "4  0.000000  0.000000  0.000000  0.000000  0.000000  0.000000  0.000000   \n",
       "\n",
       "         7         8         9   ...        40        41        42        43  \\\n",
       "0 -0.140397  0.344459  0.660494  ...  0.992893 -0.221473 -0.568633  0.686275   \n",
       "1  0.000000  0.000000  0.000000  ...  0.000000  0.000000  0.000000  0.000000   \n",
       "2  0.000000  0.000000  0.000000  ...  0.000000  0.000000  0.000000  0.000000   \n",
       "3  0.000000  0.000000  0.000000  ...  0.000000  0.000000  0.000000  0.000000   \n",
       "4  0.000000  0.000000  0.000000  ...  0.000000  0.000000  0.000000  0.000000   \n",
       "\n",
       "         44        45        46        47        48        49  \n",
       "0 -0.275348  0.551287  0.613449 -0.187132 -0.870731  0.044502  \n",
       "1  0.000000  0.000000  0.000000  0.000000  0.000000  0.000000  \n",
       "2  0.000000  0.000000  0.000000  0.000000  0.000000  0.000000  \n",
       "3  0.000000  0.000000  0.000000  0.000000  0.000000  0.000000  \n",
       "4  0.000000  0.000000  0.000000  0.000000  0.000000  0.000000  \n",
       "\n",
       "[5 rows x 50 columns]"
      ]
     },
     "execution_count": 29,
     "metadata": {},
     "output_type": "execute_result"
    }
   ],
   "source": [
    "wordvec_df.head()"
   ]
  },
  {
   "cell_type": "code",
   "execution_count": 31,
   "id": "3f5f3289",
   "metadata": {},
   "outputs": [],
   "source": [
    "x_train = wordvec_df[:560000]"
   ]
  },
  {
   "cell_type": "code",
   "execution_count": 32,
   "id": "001420b2",
   "metadata": {},
   "outputs": [],
   "source": [
    "x_test = wordvec_df[560000:]"
   ]
  },
  {
   "cell_type": "code",
   "execution_count": 24,
   "id": "ce27be57",
   "metadata": {},
   "outputs": [],
   "source": [
    "from sklearn import svm\n",
    "\n",
    "import sklearn.model_selection as model_selection\n",
    "from sklearn.metrics import accuracy_score\n",
    "from sklearn.metrics import f1_score"
   ]
  },
  {
   "cell_type": "code",
   "execution_count": 34,
   "id": "a9fdf274",
   "metadata": {},
   "outputs": [
    {
     "name": "stdout",
     "output_type": "stream",
     "text": [
      "0.08565714285714286\n"
     ]
    },
    {
     "ename": "NameError",
     "evalue": "name 'confusion_matrix' is not defined",
     "output_type": "error",
     "traceback": [
      "\u001b[1;31m---------------------------------------------------------------------------\u001b[0m",
      "\u001b[1;31mNameError\u001b[0m                                 Traceback (most recent call last)",
      "Input \u001b[1;32mIn [34]\u001b[0m, in \u001b[0;36m<cell line: 9>\u001b[1;34m()\u001b[0m\n\u001b[0;32m      6\u001b[0m \u001b[38;5;28mprint\u001b[39m(accuracy)\n\u001b[0;32m      8\u001b[0m knn_predictions \u001b[38;5;241m=\u001b[39m knn\u001b[38;5;241m.\u001b[39mpredict(x_test)\n\u001b[1;32m----> 9\u001b[0m cm \u001b[38;5;241m=\u001b[39m \u001b[43mconfusion_matrix\u001b[49m(y_test, knn_predictions)\n\u001b[0;32m     11\u001b[0m cm\n",
      "\u001b[1;31mNameError\u001b[0m: name 'confusion_matrix' is not defined"
     ]
    }
   ],
   "source": [
    "from sklearn.neighbors import KNeighborsClassifier\n",
    "\n",
    "knn = KNeighborsClassifier(n_neighbors = 11).fit(x_train, y_train)\n",
    "\n",
    "accuracy = knn.score(x_test, y_test)\n",
    "print(accuracy)\n",
    "\n",
    "knn_predictions = knn.predict(x_test)\n",
    "cm = confusion_matrix(y_test, knn_predictions)\n",
    "\n",
    "cm"
   ]
  },
  {
   "cell_type": "code",
   "execution_count": 35,
   "id": "432aae14",
   "metadata": {},
   "outputs": [
    {
     "data": {
      "text/plain": [
       "array([[  17,   14,   17,    4,  104,   19,   36,    2, 4618,    0,   16,\n",
       "         119,    7,   27],\n",
       "       [  22,   33,   12,    4,   91,   32,   33,    1, 4583,    0,   22,\n",
       "         123,    8,   36],\n",
       "       [  24,   20,   12,    2,  119,   28,   38,    4, 4589,    0,   32,\n",
       "          80,   10,   42],\n",
       "       [  13,   13,    8,   32,   62,   26,   17,    3, 4609,    0,   37,\n",
       "         123,    2,   55],\n",
       "       [  24,   30,   33,   13,  348,   79,  109,    1, 4140,    0,   43,\n",
       "         125,    9,   46],\n",
       "       [  32,   28,    9,   16,  226,  236,   90,    2, 4056,    0,   52,\n",
       "         158,   21,   74],\n",
       "       [  44,    9,   24,    5,  248,   65,  127,    1, 4167,    0,   39,\n",
       "         145,   10,  116],\n",
       "       [   6,    4,    7,    2,   41,   19,   27,    7, 4780,    0,   10,\n",
       "          65,    3,   29],\n",
       "       [   1,   11,    1,    6,   12,   21,    3,    4, 4675,    0,    9,\n",
       "         208,    0,   49],\n",
       "       [  12,    4,    9,    2,   55,   11,   30,    2, 4829,    0,   10,\n",
       "          21,    7,    8],\n",
       "       [  28,    5,   33,   12,   74,   37,   83,    1, 4538,    0,   52,\n",
       "          80,    0,   57],\n",
       "       [  37,   19,   21,   11,   56,   55,   38,    4, 4310,    0,   47,\n",
       "         295,    8,   99],\n",
       "       [  45,   49,   31,    8,  223,   39,   76,    1, 4265,    0,   55,\n",
       "          67,   67,   74],\n",
       "       [  20,   31,   30,    4,  301,   47,   85,    0, 4215,    0,   36,\n",
       "         109,   27,   95]], dtype=int64)"
      ]
     },
     "execution_count": 35,
     "metadata": {},
     "output_type": "execute_result"
    }
   ],
   "source": [
    "from sklearn.metrics import confusion_matrix\n",
    "\n",
    "cm = confusion_matrix(y_test, knn_predictions)\n",
    "\n",
    "cm"
   ]
  },
  {
   "cell_type": "code",
   "execution_count": 37,
   "id": "8eeea12f",
   "metadata": {},
   "outputs": [],
   "source": [
    "w2v_model.save(\"word2vec_first\")\n",
    "\n",
    "w2v_model.wv.save(\"word2vec_first_embeddings\")"
   ]
  },
  {
   "cell_type": "code",
   "execution_count": null,
   "id": "24ef70cf",
   "metadata": {},
   "outputs": [],
   "source": []
  }
 ],
 "metadata": {
  "kernelspec": {
   "display_name": "Python 3 (ipykernel)",
   "language": "python",
   "name": "python3"
  },
  "language_info": {
   "codemirror_mode": {
    "name": "ipython",
    "version": 3
   },
   "file_extension": ".py",
   "mimetype": "text/x-python",
   "name": "python",
   "nbconvert_exporter": "python",
   "pygments_lexer": "ipython3",
   "version": "3.9.12"
  }
 },
 "nbformat": 4,
 "nbformat_minor": 5
}
